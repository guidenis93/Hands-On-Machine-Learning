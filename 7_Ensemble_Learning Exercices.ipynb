{
 "cells": [
  {
   "cell_type": "markdown",
   "id": "mechanical-container",
   "metadata": {},
   "source": [
    "# Exercice chapitre 7"
   ]
  },
  {
   "cell_type": "code",
   "execution_count": 1,
   "id": "alike-banana",
   "metadata": {},
   "outputs": [],
   "source": [
    "import matplotlib.pyplot as plt\n",
    "from matplotlib.pyplot import style\n",
    "style.use(\"default\")\n",
    "%matplotlib inline\n",
    "import numpy as np\n",
    "import pandas as pd\n",
    "import seaborn as sns\n",
    "from collections import Counter\n",
    "\n",
    "from sklearn.datasets import fetch_openml\n",
    "from sklearn.model_selection import train_test_split, GridSearchCV, ShuffleSplit\n",
    "from sklearn.metrics import confusion_matrix, accuracy_score, classification_report\n",
    "from sklearn import preprocessing\n",
    "\n",
    "from sklearn.svm import SVC\n",
    "from sklearn.svm import LinearSVC\n",
    "from sklearn.tree import DecisionTreeClassifier\n",
    "from sklearn.linear_model import LogisticRegression\n",
    "from sklearn.neural_network import MLPClassifier\n",
    "from sklearn.ensemble import RandomForestClassifier\n",
    "from sklearn.ensemble import VotingClassifier\n",
    "\n",
    "pd.options.mode.chained_assignment = None"
   ]
  },
  {
   "cell_type": "markdown",
   "id": "specified-roads",
   "metadata": {},
   "source": [
    "## Data Preparation"
   ]
  },
  {
   "cell_type": "code",
   "execution_count": 2,
   "id": "promotional-hearts",
   "metadata": {},
   "outputs": [],
   "source": [
    "# Lecture de la base de données\n",
    "\n",
    "mnist = fetch_openml(\"mnist_784\", version = 1)\n",
    "\n",
    "X, y  = mnist[\"data\"], mnist[\"target\"]"
   ]
  },
  {
   "cell_type": "code",
   "execution_count": 13,
   "id": "naked-vaccine",
   "metadata": {},
   "outputs": [
    {
     "data": {
      "text/html": [
       "<div>\n",
       "<style scoped>\n",
       "    .dataframe tbody tr th:only-of-type {\n",
       "        vertical-align: middle;\n",
       "    }\n",
       "\n",
       "    .dataframe tbody tr th {\n",
       "        vertical-align: top;\n",
       "    }\n",
       "\n",
       "    .dataframe thead th {\n",
       "        text-align: right;\n",
       "    }\n",
       "</style>\n",
       "<table border=\"1\" class=\"dataframe\">\n",
       "  <thead>\n",
       "    <tr style=\"text-align: right;\">\n",
       "      <th></th>\n",
       "      <th>pixel0</th>\n",
       "      <th>pixel1</th>\n",
       "      <th>pixel2</th>\n",
       "      <th>pixel3</th>\n",
       "      <th>pixel4</th>\n",
       "      <th>pixel5</th>\n",
       "      <th>pixel6</th>\n",
       "      <th>pixel7</th>\n",
       "      <th>pixel8</th>\n",
       "      <th>pixel9</th>\n",
       "      <th>...</th>\n",
       "      <th>pixel775</th>\n",
       "      <th>pixel776</th>\n",
       "      <th>pixel777</th>\n",
       "      <th>pixel778</th>\n",
       "      <th>pixel779</th>\n",
       "      <th>pixel780</th>\n",
       "      <th>pixel781</th>\n",
       "      <th>pixel782</th>\n",
       "      <th>pixel783</th>\n",
       "      <th>target</th>\n",
       "    </tr>\n",
       "  </thead>\n",
       "  <tbody>\n",
       "    <tr>\n",
       "      <th>0</th>\n",
       "      <td>0.0</td>\n",
       "      <td>0.0</td>\n",
       "      <td>0.0</td>\n",
       "      <td>0.0</td>\n",
       "      <td>0.0</td>\n",
       "      <td>0.0</td>\n",
       "      <td>0.0</td>\n",
       "      <td>0.0</td>\n",
       "      <td>0.0</td>\n",
       "      <td>0.0</td>\n",
       "      <td>...</td>\n",
       "      <td>0.0</td>\n",
       "      <td>0.0</td>\n",
       "      <td>0.0</td>\n",
       "      <td>0.0</td>\n",
       "      <td>0.0</td>\n",
       "      <td>0.0</td>\n",
       "      <td>0.0</td>\n",
       "      <td>0.0</td>\n",
       "      <td>0.0</td>\n",
       "      <td>5</td>\n",
       "    </tr>\n",
       "    <tr>\n",
       "      <th>1</th>\n",
       "      <td>0.0</td>\n",
       "      <td>0.0</td>\n",
       "      <td>0.0</td>\n",
       "      <td>0.0</td>\n",
       "      <td>0.0</td>\n",
       "      <td>0.0</td>\n",
       "      <td>0.0</td>\n",
       "      <td>0.0</td>\n",
       "      <td>0.0</td>\n",
       "      <td>0.0</td>\n",
       "      <td>...</td>\n",
       "      <td>0.0</td>\n",
       "      <td>0.0</td>\n",
       "      <td>0.0</td>\n",
       "      <td>0.0</td>\n",
       "      <td>0.0</td>\n",
       "      <td>0.0</td>\n",
       "      <td>0.0</td>\n",
       "      <td>0.0</td>\n",
       "      <td>0.0</td>\n",
       "      <td>0</td>\n",
       "    </tr>\n",
       "    <tr>\n",
       "      <th>2</th>\n",
       "      <td>0.0</td>\n",
       "      <td>0.0</td>\n",
       "      <td>0.0</td>\n",
       "      <td>0.0</td>\n",
       "      <td>0.0</td>\n",
       "      <td>0.0</td>\n",
       "      <td>0.0</td>\n",
       "      <td>0.0</td>\n",
       "      <td>0.0</td>\n",
       "      <td>0.0</td>\n",
       "      <td>...</td>\n",
       "      <td>0.0</td>\n",
       "      <td>0.0</td>\n",
       "      <td>0.0</td>\n",
       "      <td>0.0</td>\n",
       "      <td>0.0</td>\n",
       "      <td>0.0</td>\n",
       "      <td>0.0</td>\n",
       "      <td>0.0</td>\n",
       "      <td>0.0</td>\n",
       "      <td>4</td>\n",
       "    </tr>\n",
       "    <tr>\n",
       "      <th>3</th>\n",
       "      <td>0.0</td>\n",
       "      <td>0.0</td>\n",
       "      <td>0.0</td>\n",
       "      <td>0.0</td>\n",
       "      <td>0.0</td>\n",
       "      <td>0.0</td>\n",
       "      <td>0.0</td>\n",
       "      <td>0.0</td>\n",
       "      <td>0.0</td>\n",
       "      <td>0.0</td>\n",
       "      <td>...</td>\n",
       "      <td>0.0</td>\n",
       "      <td>0.0</td>\n",
       "      <td>0.0</td>\n",
       "      <td>0.0</td>\n",
       "      <td>0.0</td>\n",
       "      <td>0.0</td>\n",
       "      <td>0.0</td>\n",
       "      <td>0.0</td>\n",
       "      <td>0.0</td>\n",
       "      <td>1</td>\n",
       "    </tr>\n",
       "    <tr>\n",
       "      <th>4</th>\n",
       "      <td>0.0</td>\n",
       "      <td>0.0</td>\n",
       "      <td>0.0</td>\n",
       "      <td>0.0</td>\n",
       "      <td>0.0</td>\n",
       "      <td>0.0</td>\n",
       "      <td>0.0</td>\n",
       "      <td>0.0</td>\n",
       "      <td>0.0</td>\n",
       "      <td>0.0</td>\n",
       "      <td>...</td>\n",
       "      <td>0.0</td>\n",
       "      <td>0.0</td>\n",
       "      <td>0.0</td>\n",
       "      <td>0.0</td>\n",
       "      <td>0.0</td>\n",
       "      <td>0.0</td>\n",
       "      <td>0.0</td>\n",
       "      <td>0.0</td>\n",
       "      <td>0.0</td>\n",
       "      <td>9</td>\n",
       "    </tr>\n",
       "  </tbody>\n",
       "</table>\n",
       "<p>5 rows × 785 columns</p>\n",
       "</div>"
      ],
      "text/plain": [
       "   pixel0  pixel1  pixel2  pixel3  pixel4  pixel5  pixel6  pixel7  pixel8  \\\n",
       "0     0.0     0.0     0.0     0.0     0.0     0.0     0.0     0.0     0.0   \n",
       "1     0.0     0.0     0.0     0.0     0.0     0.0     0.0     0.0     0.0   \n",
       "2     0.0     0.0     0.0     0.0     0.0     0.0     0.0     0.0     0.0   \n",
       "3     0.0     0.0     0.0     0.0     0.0     0.0     0.0     0.0     0.0   \n",
       "4     0.0     0.0     0.0     0.0     0.0     0.0     0.0     0.0     0.0   \n",
       "\n",
       "   pixel9  ...  pixel775  pixel776  pixel777  pixel778  pixel779  pixel780  \\\n",
       "0     0.0  ...       0.0       0.0       0.0       0.0       0.0       0.0   \n",
       "1     0.0  ...       0.0       0.0       0.0       0.0       0.0       0.0   \n",
       "2     0.0  ...       0.0       0.0       0.0       0.0       0.0       0.0   \n",
       "3     0.0  ...       0.0       0.0       0.0       0.0       0.0       0.0   \n",
       "4     0.0  ...       0.0       0.0       0.0       0.0       0.0       0.0   \n",
       "\n",
       "   pixel781  pixel782  pixel783  target  \n",
       "0       0.0       0.0       0.0       5  \n",
       "1       0.0       0.0       0.0       0  \n",
       "2       0.0       0.0       0.0       4  \n",
       "3       0.0       0.0       0.0       1  \n",
       "4       0.0       0.0       0.0       9  \n",
       "\n",
       "[5 rows x 785 columns]"
      ]
     },
     "execution_count": 13,
     "metadata": {},
     "output_type": "execute_result"
    }
   ],
   "source": [
    "# On crée un dataframe\n",
    "\n",
    "df = pd.DataFrame(X, index = [i for i in range(len(X))], \n",
    "                 columns = [\"pixel\" + str(i) for i in range(X.shape[1])])\n",
    "\n",
    "df[\"target\"] = y\n",
    "\n",
    "df.head()"
   ]
  },
  {
   "cell_type": "code",
   "execution_count": 14,
   "id": "absolute-oxford",
   "metadata": {},
   "outputs": [
    {
     "name": "stdout",
     "output_type": "stream",
     "text": [
      "(35000, 785)\n",
      "(21000, 784) (7000, 784) (7000, 784)\n",
      "(21000,) (7000,) (7000,)\n"
     ]
    }
   ],
   "source": [
    "# On réduit la taille de la base de données pour accélérer le training des modèles\n",
    "\n",
    "df = df.sample(frac = 0.50).reset_index(drop = True)\n",
    "print(df.shape)\n",
    "\n",
    "# Training and testing dataset\n",
    "X_train, X_test, y_train, y_test = train_test_split(df.iloc[:, 0:-1], df.iloc[:,-1], \n",
    "                                                     test_size = 0.2, random_state = 42, \n",
    "                                                     shuffle = True)\n",
    "# Training and testing dataset\n",
    "X_train, X_val, y_train, y_val = train_test_split(X_train, y_train, \n",
    "                                                     test_size = 0.25, random_state = 100, \n",
    "                                                     shuffle = True)\n",
    "\n",
    "print(X_train.shape, X_test.shape, X_val.shape)\n",
    "print(y_train.shape, y_test.shape, y_val.shape)"
   ]
  },
  {
   "cell_type": "markdown",
   "id": "viral-formation",
   "metadata": {},
   "source": [
    "## 8. Model Training\n",
    "\n"
   ]
  },
  {
   "cell_type": "code",
   "execution_count": 15,
   "id": "impressed-sister",
   "metadata": {},
   "outputs": [
    {
     "name": "stdout",
     "output_type": "stream",
     "text": [
      "Linear SVM trained\n",
      "Decision Tree trained\n",
      "Neural Network trained\n",
      "Random Forest trained\n"
     ]
    }
   ],
   "source": [
    "models = {\n",
    "#     \"SVM\": SVC(kernel='rbf', gamma=\"auto\"), # trop long à rouler\n",
    "    \"Linear SVM\": LinearSVC(max_iter=100, tol=20, random_state=42),\n",
    "    \"Decision Tree\": DecisionTreeClassifier(),\n",
    "    \"Neural Network\": MLPClassifier(random_state = 42),\n",
    "    \"Random Forest\": RandomForestClassifier(random_state = 42)\n",
    "}\n",
    "\n",
    "for name, model in models.items():\n",
    "    model.fit(X_train, y_train)\n",
    "    print(name + \" trained\")"
   ]
  },
  {
   "cell_type": "code",
   "execution_count": 16,
   "id": "stopped-quality",
   "metadata": {},
   "outputs": [
    {
     "name": "stdout",
     "output_type": "stream",
     "text": [
      "Linear SVMAccuracy: 0.857\n",
      "Decision TreeAccuracy: 0.8404\n",
      "Neural NetworkAccuracy: 0.9514\n",
      "Random ForestAccuracy: 0.9607\n"
     ]
    }
   ],
   "source": [
    "for name, model in models.items():\n",
    "    print(name + \" Accuracy:\", round(model.score(X_test, y_test),4))"
   ]
  },
  {
   "cell_type": "code",
   "execution_count": 23,
   "id": "cellular-allen",
   "metadata": {},
   "outputs": [
    {
     "name": "stdout",
     "output_type": "stream",
     "text": [
      "Score: 0.9552857142857143\n"
     ]
    }
   ],
   "source": [
    "# On crée un voting classifier\n",
    "named_models = [\n",
    "    (\"Linear SVM\", LinearSVC(max_iter=100, tol=20, random_state=42)),\n",
    "    (\"Decision Tree\", DecisionTreeClassifier()),\n",
    "    (\"Neural Network\", MLPClassifier(random_state = 42)),\n",
    "    (\"Random Forest\", RandomForestClassifier(random_state = 42))   \n",
    "]\n",
    "\n",
    "# Création du classifier\n",
    "voting_clf = VotingClassifier(named_models)\n",
    "voting_clf.fit(X_train, y_train)\n",
    "print(\"Score:\", voting_clf.score(X_test, y_test))"
   ]
  },
  {
   "cell_type": "code",
   "execution_count": 24,
   "id": "competent-description",
   "metadata": {},
   "outputs": [
    {
     "name": "stdout",
     "output_type": "stream",
     "text": [
      "[MLPClassifier(random_state=42), RandomForestClassifier(random_state=42)]\n"
     ]
    },
    {
     "data": {
      "text/plain": [
       "0.9544285714285714"
      ]
     },
     "execution_count": 24,
     "metadata": {},
     "output_type": "execute_result"
    }
   ],
   "source": [
    "del voting_clf.estimators_[0:2]\n",
    "print(voting_clf.estimators_)\n",
    "voting_clf.score(X_test, y_test)"
   ]
  },
  {
   "cell_type": "markdown",
   "id": "loved-clothing",
   "metadata": {},
   "source": [
    "## 9. Stacking Ensemble"
   ]
  },
  {
   "cell_type": "code",
   "execution_count": 26,
   "id": "soviet-navigation",
   "metadata": {},
   "outputs": [
    {
     "name": "stdout",
     "output_type": "stream",
     "text": [
      "Linear SVM prediction made.\n",
      "Decision Tree prediction made.\n",
      "Neural Network prediction made.\n",
      "Random Forest prediction made.\n"
     ]
    }
   ],
   "source": [
    "y_val_dic = {}\n",
    "\n",
    "# On roule les modèles et on prédit sur le validation set\n",
    "for name, model in models.items():\n",
    "    model.fit(X_train, y_train)\n",
    "    y_val_pred = model.predict(X_val)\n",
    "    y_val_dic[name] = y_val_pred\n",
    "    print(name + \" prediction made.\")"
   ]
  },
  {
   "cell_type": "code",
   "execution_count": 50,
   "id": "substantial-craft",
   "metadata": {},
   "outputs": [
    {
     "data": {
      "text/plain": [
       "RandomForestClassifier(n_estimators=200, oob_score=True, random_state=42)"
      ]
     },
     "execution_count": 50,
     "metadata": {},
     "output_type": "execute_result"
    }
   ],
   "source": [
    "# On crée un dataframe avec les prédictions\n",
    "y_vals = pd.DataFrame.from_dict(y_val_dic)\n",
    "y_vals[\"true_val\"] = y_val.values\n",
    "\n",
    "# On roule un nouveau modèle\n",
    "stack_model = RandomForestClassifier(n_estimators=200, oob_score=True, random_state=42)\n",
    "stack_model.fit(y_vals.iloc[:,0:-1], y_vals.iloc[:,-1])"
   ]
  },
  {
   "cell_type": "code",
   "execution_count": 51,
   "id": "stunning-corrections",
   "metadata": {},
   "outputs": [
    {
     "name": "stdout",
     "output_type": "stream",
     "text": [
      "Linear SVM prediction made.\n",
      "Decision Tree prediction made.\n",
      "Neural Network prediction made.\n",
      "Random Forest prediction made.\n",
      "0.9564285714285714\n"
     ]
    }
   ],
   "source": [
    "# On refait la même chose, mais avec le testing dataset\n",
    "y_val_dic2 = {}\n",
    "\n",
    "for name, model in models.items():\n",
    "    model.fit(X_train, y_train)\n",
    "    y_val_pred = model.predict(X_test)\n",
    "    y_val_dic2[name] = y_val_pred\n",
    "    print(name + \" prediction made.\")\n",
    "\n",
    "# On crée un nouveau dataframe\n",
    "y_vals2 = pd.DataFrame.from_dict(y_val_dic2)\n",
    "\n",
    "# On roule le modèel pour choisir les meilleurs valeurs de y\n",
    "y_pred = stack_model.predict(y_vals2)\n",
    "\n",
    "# On compare\n",
    "print(accuracy_score(y_pred, y_test)) # On obtient un meilleur résultat de quelques décimales"
   ]
  }
 ],
 "metadata": {
  "kernelspec": {
   "display_name": "Python 3",
   "language": "python",
   "name": "python3"
  },
  "language_info": {
   "codemirror_mode": {
    "name": "ipython",
    "version": 3
   },
   "file_extension": ".py",
   "mimetype": "text/x-python",
   "name": "python",
   "nbconvert_exporter": "python",
   "pygments_lexer": "ipython3",
   "version": "3.8.5"
  }
 },
 "nbformat": 4,
 "nbformat_minor": 5
}
