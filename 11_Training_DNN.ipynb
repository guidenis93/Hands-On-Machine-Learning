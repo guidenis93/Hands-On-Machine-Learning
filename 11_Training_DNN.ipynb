{
  "nbformat": 4,
  "nbformat_minor": 0,
  "metadata": {
    "colab": {
      "name": "11_Training_DNN.ipynb",
      "provenance": [],
      "collapsed_sections": [],
      "authorship_tag": "ABX9TyM2rR3GViPU9+pIWmIZbDyf",
      "include_colab_link": true
    },
    "kernelspec": {
      "name": "python3",
      "display_name": "Python 3"
    },
    "language_info": {
      "name": "python"
    }
  },
  "cells": [
    {
      "cell_type": "markdown",
      "metadata": {
        "id": "view-in-github",
        "colab_type": "text"
      },
      "source": [
        "<a href=\"https://colab.research.google.com/github/guidenis93/Hands-On-Machine-Learning/blob/main/11_Training_DNN.ipynb\" target=\"_parent\"><img src=\"https://colab.research.google.com/assets/colab-badge.svg\" alt=\"Open In Colab\"/></a>"
      ]
    },
    {
      "cell_type": "markdown",
      "metadata": {
        "id": "e0WAl8bgYhXX"
      },
      "source": [
        "# Chapter 11 exercices"
      ]
    },
    {
      "cell_type": "code",
      "metadata": {
        "id": "JqXMePjBTR_q"
      },
      "source": [
        "import numpy as np\n",
        "import pandas as pd\n",
        "import matplotlib.pyplot as plt\n",
        "import tensorflow as tf\n",
        "import keras"
      ],
      "execution_count": 3,
      "outputs": []
    },
    {
      "cell_type": "code",
      "metadata": {
        "colab": {
          "base_uri": "https://localhost:8080/"
        },
        "id": "nKE-y7w9TrVs",
        "outputId": "6fad0278-b76d-4ee4-9ab8-3dcf0dc6ba53"
      },
      "source": [
        "# Import data\n",
        "(X_train_full, y_train_full), (X_test, y_test) = keras.datasets.cifar10.load_data()\n",
        "\n",
        "print(X_train_full.shape)\n",
        "print(y_train_full.shape)\n",
        "\n",
        "print(X_test.shape)\n",
        "print(y_test.shape)\n",
        "\n",
        "print('Unique values:', len(np.unique(y_train_full)))"
      ],
      "execution_count": 32,
      "outputs": [
        {
          "output_type": "stream",
          "text": [
            "(50000, 32, 32, 3)\n",
            "(50000, 1)\n",
            "(10000, 32, 32, 3)\n",
            "(10000, 1)\n",
            "Unique values: 10\n"
          ],
          "name": "stdout"
        }
      ]
    },
    {
      "cell_type": "code",
      "metadata": {
        "id": "VHhjb92XhVKr"
      },
      "source": [
        "X_valid = X_train_full[0:5000]\n",
        "y_valid = y_train_full[0:5000]\n",
        "X_train = X_train_full[5000:]\n",
        "y_train = y_train_full[5000:]"
      ],
      "execution_count": 59,
      "outputs": []
    },
    {
      "cell_type": "markdown",
      "metadata": {
        "id": "BjhCcOFaZU0f"
      },
      "source": [
        "## Trainin DNN"
      ]
    },
    {
      "cell_type": "markdown",
      "metadata": {
        "id": "InUSUeINbEF8"
      },
      "source": [
        "### a)"
      ]
    },
    {
      "cell_type": "code",
      "metadata": {
        "colab": {
          "base_uri": "https://localhost:8080/"
        },
        "id": "rigteCWbTx-s",
        "outputId": "48d57f45-5e91-49ee-a98d-8a8c879524c3"
      },
      "source": [
        "model = keras.models.Sequential()\n",
        "\n",
        "# Flatten input\n",
        "model.add(keras.layers.Flatten(input_shape=[32, 32, 3]))\n",
        "\n",
        "# Add hidden layers\n",
        "for _ in range(20):\n",
        "  model.add(keras.layers.Dense(100,\n",
        "                                 activation=\"elu\",\n",
        "                                 kernel_initializer=\"he_normal\"))\n",
        "\n",
        "# Add last layer\n",
        "model.add(keras.layers.Dense(10, activation = \"softmax\"))\n",
        "\n",
        "model.summary()"
      ],
      "execution_count": 56,
      "outputs": [
        {
          "output_type": "stream",
          "text": [
            "Model: \"sequential_3\"\n",
            "_________________________________________________________________\n",
            "Layer (type)                 Output Shape              Param #   \n",
            "=================================================================\n",
            "flatten_3 (Flatten)          (None, 3072)              0         \n",
            "_________________________________________________________________\n",
            "dense_42 (Dense)             (None, 100)               307300    \n",
            "_________________________________________________________________\n",
            "dense_43 (Dense)             (None, 100)               10100     \n",
            "_________________________________________________________________\n",
            "dense_44 (Dense)             (None, 100)               10100     \n",
            "_________________________________________________________________\n",
            "dense_45 (Dense)             (None, 100)               10100     \n",
            "_________________________________________________________________\n",
            "dense_46 (Dense)             (None, 100)               10100     \n",
            "_________________________________________________________________\n",
            "dense_47 (Dense)             (None, 100)               10100     \n",
            "_________________________________________________________________\n",
            "dense_48 (Dense)             (None, 100)               10100     \n",
            "_________________________________________________________________\n",
            "dense_49 (Dense)             (None, 100)               10100     \n",
            "_________________________________________________________________\n",
            "dense_50 (Dense)             (None, 100)               10100     \n",
            "_________________________________________________________________\n",
            "dense_51 (Dense)             (None, 100)               10100     \n",
            "_________________________________________________________________\n",
            "dense_52 (Dense)             (None, 100)               10100     \n",
            "_________________________________________________________________\n",
            "dense_53 (Dense)             (None, 100)               10100     \n",
            "_________________________________________________________________\n",
            "dense_54 (Dense)             (None, 100)               10100     \n",
            "_________________________________________________________________\n",
            "dense_55 (Dense)             (None, 100)               10100     \n",
            "_________________________________________________________________\n",
            "dense_56 (Dense)             (None, 100)               10100     \n",
            "_________________________________________________________________\n",
            "dense_57 (Dense)             (None, 100)               10100     \n",
            "_________________________________________________________________\n",
            "dense_58 (Dense)             (None, 100)               10100     \n",
            "_________________________________________________________________\n",
            "dense_59 (Dense)             (None, 100)               10100     \n",
            "_________________________________________________________________\n",
            "dense_60 (Dense)             (None, 100)               10100     \n",
            "_________________________________________________________________\n",
            "dense_61 (Dense)             (None, 100)               10100     \n",
            "_________________________________________________________________\n",
            "dense_62 (Dense)             (None, 10)                1010      \n",
            "=================================================================\n",
            "Total params: 500,210\n",
            "Trainable params: 500,210\n",
            "Non-trainable params: 0\n",
            "_________________________________________________________________\n"
          ],
          "name": "stdout"
        }
      ]
    },
    {
      "cell_type": "markdown",
      "metadata": {
        "id": "U-Sx2Qo6gAES"
      },
      "source": [
        "### b)"
      ]
    },
    {
      "cell_type": "code",
      "metadata": {
        "id": "UWaJ_d0hT6x5"
      },
      "source": [
        "# Adam optimizer\n",
        "optimizer = keras.optimizers.Adam(lr = 5e-5)\n",
        "\n",
        "model.compile(loss = \"sparse_categorical_crossentropy\", \n",
        "              optimizer = optimizer,\n",
        "              metrics = [\"accuracy\"])\n",
        "\n",
        "# Add early stopping\n",
        "early_stopping_cb = keras.callbacks.EarlyStopping(patience = 10, restore_best_weights = True)"
      ],
      "execution_count": 57,
      "outputs": []
    },
    {
      "cell_type": "code",
      "metadata": {
        "colab": {
          "base_uri": "https://localhost:8080/"
        },
        "id": "duMRW0z7UJM6",
        "outputId": "3018af2f-6978-4908-c99c-de96906f6bcb"
      },
      "source": [
        "# Fit model\n",
        "history = model.fit(X_train, y_train, epochs = 75, \n",
        "                    validation_data = (X_valid, y_valid),\n",
        "                    callbacks = early_stopping_cb)"
      ],
      "execution_count": 60,
      "outputs": [
        {
          "output_type": "stream",
          "text": [
            "Epoch 1/75\n",
            "1407/1407 [==============================] - 10s 7ms/step - loss: 1.9458 - accuracy: 0.2984 - val_loss: 1.8199 - val_accuracy: 0.3370\n",
            "Epoch 2/75\n",
            "1407/1407 [==============================] - 10s 7ms/step - loss: 1.8513 - accuracy: 0.3286 - val_loss: 1.8100 - val_accuracy: 0.3378\n",
            "Epoch 3/75\n",
            "1407/1407 [==============================] - 10s 7ms/step - loss: 1.7908 - accuracy: 0.3515 - val_loss: 1.7602 - val_accuracy: 0.3664\n",
            "Epoch 4/75\n",
            "1407/1407 [==============================] - 10s 7ms/step - loss: 1.7480 - accuracy: 0.3686 - val_loss: 1.6739 - val_accuracy: 0.3956\n",
            "Epoch 5/75\n",
            "1407/1407 [==============================] - 10s 7ms/step - loss: 1.7023 - accuracy: 0.3864 - val_loss: 1.6833 - val_accuracy: 0.3964\n",
            "Epoch 6/75\n",
            "1407/1407 [==============================] - 10s 7ms/step - loss: 1.6695 - accuracy: 0.3978 - val_loss: 1.6712 - val_accuracy: 0.3914\n",
            "Epoch 7/75\n",
            "1407/1407 [==============================] - 10s 7ms/step - loss: 1.6459 - accuracy: 0.4073 - val_loss: 1.6191 - val_accuracy: 0.4268\n",
            "Epoch 8/75\n",
            "1407/1407 [==============================] - 10s 7ms/step - loss: 1.6147 - accuracy: 0.4182 - val_loss: 1.6478 - val_accuracy: 0.4150\n",
            "Epoch 9/75\n",
            "1407/1407 [==============================] - 10s 7ms/step - loss: 1.5956 - accuracy: 0.4266 - val_loss: 1.6160 - val_accuracy: 0.4198\n",
            "Epoch 10/75\n",
            "1407/1407 [==============================] - 10s 7ms/step - loss: 1.5727 - accuracy: 0.4320 - val_loss: 1.6034 - val_accuracy: 0.4240\n",
            "Epoch 11/75\n",
            "1407/1407 [==============================] - 10s 7ms/step - loss: 1.5577 - accuracy: 0.4398 - val_loss: 1.6172 - val_accuracy: 0.4224\n",
            "Epoch 12/75\n",
            "1407/1407 [==============================] - 10s 7ms/step - loss: 1.5396 - accuracy: 0.4470 - val_loss: 1.5586 - val_accuracy: 0.4414\n",
            "Epoch 13/75\n",
            "1407/1407 [==============================] - 10s 7ms/step - loss: 1.5251 - accuracy: 0.4516 - val_loss: 1.5718 - val_accuracy: 0.4382\n",
            "Epoch 14/75\n",
            "1407/1407 [==============================] - 10s 7ms/step - loss: 1.5128 - accuracy: 0.4575 - val_loss: 1.5562 - val_accuracy: 0.4438\n",
            "Epoch 15/75\n",
            "1407/1407 [==============================] - 10s 7ms/step - loss: 1.4945 - accuracy: 0.4630 - val_loss: 1.5441 - val_accuracy: 0.4486\n",
            "Epoch 16/75\n",
            "1407/1407 [==============================] - 10s 7ms/step - loss: 1.4808 - accuracy: 0.4670 - val_loss: 1.5201 - val_accuracy: 0.4614\n",
            "Epoch 17/75\n",
            "1407/1407 [==============================] - 10s 7ms/step - loss: 1.4666 - accuracy: 0.4734 - val_loss: 1.5253 - val_accuracy: 0.4526\n",
            "Epoch 18/75\n",
            "1407/1407 [==============================] - 10s 7ms/step - loss: 1.4543 - accuracy: 0.4795 - val_loss: 1.5388 - val_accuracy: 0.4518\n",
            "Epoch 19/75\n",
            "1407/1407 [==============================] - 10s 7ms/step - loss: 1.4487 - accuracy: 0.4813 - val_loss: 1.5386 - val_accuracy: 0.4554\n",
            "Epoch 20/75\n",
            "1407/1407 [==============================] - 10s 7ms/step - loss: 1.4336 - accuracy: 0.4871 - val_loss: 1.5283 - val_accuracy: 0.4512\n",
            "Epoch 21/75\n",
            "1407/1407 [==============================] - 10s 7ms/step - loss: 1.4226 - accuracy: 0.4909 - val_loss: 1.5136 - val_accuracy: 0.4570\n",
            "Epoch 22/75\n",
            "1407/1407 [==============================] - 10s 7ms/step - loss: 1.4100 - accuracy: 0.4944 - val_loss: 1.5486 - val_accuracy: 0.4562\n",
            "Epoch 23/75\n",
            "1407/1407 [==============================] - 10s 7ms/step - loss: 1.4035 - accuracy: 0.4976 - val_loss: 1.5173 - val_accuracy: 0.4674\n",
            "Epoch 24/75\n",
            "1407/1407 [==============================] - 10s 7ms/step - loss: 1.3884 - accuracy: 0.5025 - val_loss: 1.5255 - val_accuracy: 0.4648\n",
            "Epoch 25/75\n",
            "1407/1407 [==============================] - 10s 7ms/step - loss: 1.3838 - accuracy: 0.5047 - val_loss: 1.5048 - val_accuracy: 0.4688\n",
            "Epoch 26/75\n",
            "1407/1407 [==============================] - 10s 7ms/step - loss: 1.3764 - accuracy: 0.5053 - val_loss: 1.5434 - val_accuracy: 0.4600\n",
            "Epoch 27/75\n",
            "1407/1407 [==============================] - 10s 7ms/step - loss: 1.3626 - accuracy: 0.5106 - val_loss: 1.5287 - val_accuracy: 0.4584\n",
            "Epoch 28/75\n",
            "1407/1407 [==============================] - 10s 7ms/step - loss: 1.3515 - accuracy: 0.5151 - val_loss: 1.5129 - val_accuracy: 0.4590\n",
            "Epoch 29/75\n",
            "1407/1407 [==============================] - 10s 7ms/step - loss: 1.3427 - accuracy: 0.5182 - val_loss: 1.5257 - val_accuracy: 0.4646\n",
            "Epoch 30/75\n",
            "1407/1407 [==============================] - 10s 7ms/step - loss: 1.3358 - accuracy: 0.5228 - val_loss: 1.5149 - val_accuracy: 0.4628\n",
            "Epoch 31/75\n",
            "1407/1407 [==============================] - 10s 7ms/step - loss: 1.3243 - accuracy: 0.5259 - val_loss: 1.4927 - val_accuracy: 0.4728\n",
            "Epoch 32/75\n",
            "1407/1407 [==============================] - 10s 7ms/step - loss: 1.3193 - accuracy: 0.5267 - val_loss: 1.5210 - val_accuracy: 0.4712\n",
            "Epoch 33/75\n",
            "1407/1407 [==============================] - 10s 7ms/step - loss: 1.3086 - accuracy: 0.5328 - val_loss: 1.5461 - val_accuracy: 0.4598\n",
            "Epoch 34/75\n",
            "1407/1407 [==============================] - 10s 7ms/step - loss: 1.3001 - accuracy: 0.5296 - val_loss: 1.5166 - val_accuracy: 0.4792\n",
            "Epoch 35/75\n",
            "1407/1407 [==============================] - 10s 7ms/step - loss: 1.2936 - accuracy: 0.5359 - val_loss: 1.5199 - val_accuracy: 0.4722\n",
            "Epoch 36/75\n",
            "1407/1407 [==============================] - 10s 7ms/step - loss: 1.2876 - accuracy: 0.5376 - val_loss: 1.5209 - val_accuracy: 0.4726\n",
            "Epoch 37/75\n",
            "1407/1407 [==============================] - 10s 7ms/step - loss: 1.2781 - accuracy: 0.5420 - val_loss: 1.5179 - val_accuracy: 0.4740\n",
            "Epoch 38/75\n",
            "1407/1407 [==============================] - 10s 7ms/step - loss: 1.2711 - accuracy: 0.5458 - val_loss: 1.5447 - val_accuracy: 0.4628\n",
            "Epoch 39/75\n",
            "1407/1407 [==============================] - 10s 7ms/step - loss: 1.2648 - accuracy: 0.5468 - val_loss: 1.5282 - val_accuracy: 0.4720\n",
            "Epoch 40/75\n",
            "1407/1407 [==============================] - 10s 7ms/step - loss: 1.2566 - accuracy: 0.5482 - val_loss: 1.5216 - val_accuracy: 0.4690\n",
            "Epoch 41/75\n",
            "1407/1407 [==============================] - 10s 7ms/step - loss: 1.2488 - accuracy: 0.5537 - val_loss: 1.5086 - val_accuracy: 0.4812\n"
          ],
          "name": "stdout"
        }
      ]
    },
    {
      "cell_type": "code",
      "metadata": {
        "id": "CUVqc_ugUzNW"
      },
      "source": [
        ""
      ],
      "execution_count": 55,
      "outputs": []
    },
    {
      "cell_type": "code",
      "metadata": {
        "id": "-mKIcTRgVrsy"
      },
      "source": [
        ""
      ],
      "execution_count": null,
      "outputs": []
    }
  ]
}